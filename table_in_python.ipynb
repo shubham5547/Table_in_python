{
 "cells": [
  {
   "cell_type": "code",
   "execution_count": 1,
   "metadata": {},
   "outputs": [
    {
     "name": "stdout",
     "output_type": "stream",
     "text": [
      "Enter your number 5\n",
      "5 * 1 = 5\n",
      "5 * 2 = 10\n",
      "5 * 3 = 15\n",
      "5 * 4 = 20\n",
      "5 * 5 = 25\n",
      "5 * 6 = 30\n",
      "5 * 7 = 35\n",
      "5 * 8 = 40\n",
      "5 * 9 = 45\n",
      "5 * 10 = 50\n"
     ]
    }
   ],
   "source": [
    "n = int(input(\"Enter your number \"))\n",
    "for i in range(1,11):\n",
    "    print(n,\"*\",i,\"=\",n*i)"
   ]
  },
  {
   "cell_type": "code",
   "execution_count": 5,
   "metadata": {},
   "outputs": [
    {
     "name": "stdout",
     "output_type": "stream",
     "text": [
      "textstep2 : eplain\n"
     ]
    },
    {
     "data": {
      "text/plain": [
       "'step2 : eplain'"
      ]
     },
     "execution_count": 5,
     "metadata": {},
     "output_type": "execute_result"
    }
   ],
   "source": [
    "input('text') "
   ]
  },
  {
   "cell_type": "code",
   "execution_count": 3,
   "metadata": {},
   "outputs": [],
   "source": [
    "def my_func(x):\n",
    "    print(x,\"* 1 =\",x*1)\n",
    "    print(x,\"* 2 =\",x*2)\n",
    "    print(x,\"* 3 =\",x*3)\n",
    "    print(x,\"* 4 =\",x*4)\n",
    "    print(x,\"* 5 =\",x*5)\n",
    "    print(x,\"* 6 =\",x*6)\n",
    "    print(x,\"* 7 =\",x*7)\n",
    "    print(x,\"* 8 =\",x*8)\n",
    "    print(x,\"* 9 =\",x*9)\n",
    "    print(x,\"* 10 =\",x*10)\n",
    "    "
   ]
  },
  {
   "cell_type": "code",
   "execution_count": 4,
   "metadata": {},
   "outputs": [
    {
     "name": "stdout",
     "output_type": "stream",
     "text": [
      "5 * 1 = 5\n",
      "5 * 2 = 10\n",
      "5 * 3 = 15\n",
      "5 * 4 = 20\n",
      "5 * 5 = 25\n",
      "5 * 6 = 30\n",
      "5 * 7 = 35\n",
      "5 * 8 = 40\n",
      "5 * 9 = 45\n",
      "5 * 10 = 50\n"
     ]
    }
   ],
   "source": [
    "my_func(5)"
   ]
  },
  {
   "cell_type": "code",
   "execution_count": 6,
   "metadata": {},
   "outputs": [
    {
     "name": "stdout",
     "output_type": "stream",
     "text": [
      "textStep3 : using loop\n"
     ]
    },
    {
     "data": {
      "text/plain": [
       "'Step3 : using loop'"
      ]
     },
     "execution_count": 6,
     "metadata": {},
     "output_type": "execute_result"
    }
   ],
   "source": [
    "input('text')"
   ]
  },
  {
   "cell_type": "code",
   "execution_count": 8,
   "metadata": {},
   "outputs": [
    {
     "name": "stdout",
     "output_type": "stream",
     "text": [
      "1 * 2 = 2\n",
      "2 * 2 = 4\n",
      "3 * 2 = 6\n",
      "4 * 2 = 8\n",
      "5 * 2 = 10\n",
      "6 * 2 = 12\n",
      "7 * 2 = 14\n",
      "8 * 2 = 16\n",
      "9 * 2 = 18\n",
      "10 * 2 = 20\n",
      "11 * 2 = 22\n",
      "12 * 2 = 24\n",
      "13 * 2 = 26\n",
      "14 * 2 = 28\n",
      "15 * 2 = 30\n",
      "16 * 2 = 32\n",
      "17 * 2 = 34\n",
      "18 * 2 = 36\n",
      "19 * 2 = 38\n",
      "20 * 2 = 40\n"
     ]
    }
   ],
   "source": [
    "for x in range(1,21):\n",
    "    print(x,\"* 2 =\",x*2)"
   ]
  },
  {
   "cell_type": "code",
   "execution_count": 9,
   "metadata": {},
   "outputs": [
    {
     "name": "stdout",
     "output_type": "stream",
     "text": [
      "1 * 4 = 4\n",
      "2 * 4 = 8\n",
      "3 * 4 = 12\n",
      "4 * 4 = 16\n",
      "5 * 4 = 20\n",
      "6 * 4 = 24\n",
      "7 * 4 = 28\n",
      "8 * 4 = 32\n",
      "9 * 4 = 36\n",
      "10 * 4 = 40\n",
      "11 * 4 = 44\n",
      "12 * 4 = 48\n",
      "13 * 4 = 52\n",
      "14 * 4 = 56\n",
      "15 * 4 = 60\n",
      "16 * 4 = 64\n",
      "17 * 4 = 68\n",
      "18 * 4 = 72\n",
      "19 * 4 = 76\n",
      "20 * 4 = 80\n"
     ]
    }
   ],
   "source": [
    "for x in range(1,21):\n",
    "    print(x,\"* 4 =\",x*4)"
   ]
  },
  {
   "cell_type": "code",
   "execution_count": 10,
   "metadata": {},
   "outputs": [
    {
     "name": "stdout",
     "output_type": "stream",
     "text": [
      "1 * 5 = 5\n",
      "2 * 5 = 10\n",
      "3 * 5 = 15\n",
      "4 * 5 = 20\n",
      "5 * 5 = 25\n",
      "6 * 5 = 30\n",
      "7 * 5 = 35\n",
      "8 * 5 = 40\n",
      "9 * 5 = 45\n",
      "10 * 5 = 50\n",
      "11 * 5 = 55\n",
      "12 * 5 = 60\n",
      "13 * 5 = 65\n",
      "14 * 5 = 70\n",
      "15 * 5 = 75\n",
      "16 * 5 = 80\n",
      "17 * 5 = 85\n",
      "18 * 5 = 90\n",
      "19 * 5 = 95\n",
      "20 * 5 = 100\n"
     ]
    }
   ],
   "source": [
    "for x in range(1,21):\n",
    "    print(x,\"* 5 =\",x*5)"
   ]
  },
  {
   "cell_type": "code",
   "execution_count": null,
   "metadata": {},
   "outputs": [],
   "source": []
  }
 ],
 "metadata": {
  "kernelspec": {
   "display_name": "Python 3",
   "language": "python",
   "name": "python3"
  },
  "language_info": {
   "codemirror_mode": {
    "name": "ipython",
    "version": 3
   },
   "file_extension": ".py",
   "mimetype": "text/x-python",
   "name": "python",
   "nbconvert_exporter": "python",
   "pygments_lexer": "ipython3",
   "version": "3.7.6"
  }
 },
 "nbformat": 4,
 "nbformat_minor": 4
}
